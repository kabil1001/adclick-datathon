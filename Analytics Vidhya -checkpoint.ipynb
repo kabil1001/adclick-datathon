{
 "cells": [
  {
   "cell_type": "code",
   "execution_count": 2,
   "metadata": {},
   "outputs": [],
   "source": [
    "import pandas as pd\n",
    "import numpy as np"
   ]
  },
  {
   "cell_type": "code",
   "execution_count": 7,
   "metadata": {},
   "outputs": [],
   "source": [
    "log  = pd.read_csv(\"C:/Users/kxj133/Desktop/analytics vidhya/view_log.csv\",parse_dates = ['server_time'] )\n",
    "train = pd.read_csv(\"C:/Users/kxj133/Desktop/analytics vidhya//train.csv\",parse_dates = ['impression_time'])\n",
    "item = pd.read_csv(\"C:/Users/kxj133/Desktop/analytics vidhya/item_data.csv\")"
   ]
  },
  {
   "cell_type": "markdown",
   "metadata": {},
   "source": [
    "- merging the log and train data "
   ]
  },
  {
   "cell_type": "code",
   "execution_count": 57,
   "metadata": {},
   "outputs": [],
   "source": [
    "merged_data = pd.merge(log,train,on = \"user_id\",how = \"inner\")"
   ]
  },
  {
   "cell_type": "markdown",
   "metadata": {},
   "source": [
    "- creating group object for iteration in the step"
   ]
  },
  {
   "cell_type": "code",
   "execution_count": 4,
   "metadata": {},
   "outputs": [],
   "source": [
    "group = merged_data.groupby(['impression_id','impression_time'])"
   ]
  },
  {
   "cell_type": "markdown",
   "metadata": {},
   "source": [
    "- creating the list which contains tuples with our grouped values such as [('impressionid',impression_time')]"
   ]
  },
  {
   "cell_type": "markdown",
   "metadata": {
    "scrolled": true
   },
   "source": [
    "data = pd.merge(train_data[0:10000],log_data[0:10000],on ='user_id',how = \"inner\")id_list = []\n",
    "for id in group:\n",
    "    id_list.append(id[0])\n",
    "\n",
    "#removing  the rows in which the server time is greater tham impression time by apply the condition and merging the subdataframe with the main dataframe\n",
    "\n",
    "impression_df = pd.DataFrame()\n",
    "for id in id_list:\n",
    "    grp_df = group.get_group(id)\n",
    "    grp_df = grp_df[grp_df['impression_time'] >= grp_df['server_time']]\n",
    "    impression_df = impression_df.append(grp_df)"
   ]
  },
  {
   "cell_type": "markdown",
   "metadata": {},
   "source": [
    "- rolling up all the item_id into one list by grouping impression_id and impression_time\n"
   ]
  },
  {
   "cell_type": "code",
   "execution_count": 5,
   "metadata": {},
   "outputs": [],
   "source": [
    "rolled_data = impression_df.groupby(['impression_id','impression_time'])['item_id'].apply(list)\n",
    "\n",
    "rolled_data = rolled_data.reset_index().rename(columns = {'0':\"order_item\"})"
   ]
  },
  {
   "cell_type": "markdown",
   "metadata": {},
   "source": [
    "- creating the function for finding the sum of price for all the item_id in each impression_id"
   ]
  },
  {
   "cell_type": "code",
   "execution_count": 6,
   "metadata": {},
   "outputs": [],
   "source": [
    "def pricesum(rolled_data,item_data):\n",
    "    order_price = []\n",
    "    unknown_order = []\n",
    "    for i in range(rolled_data.shape[0]):\n",
    "        order_list = rolled_data['item_id'][i]\n",
    "        item_df = item_data[item_data['item_id'].isin(order_list)]\n",
    "        price = item_df['item_price'].sum()\n",
    "        category = item_df['']\n",
    "        order_price.append(price)  \n",
    "    return order_price,unknown_order"
   ]
  },
  {
   "cell_type": "markdown",
   "metadata": {},
   "source": [
    "- applying the above defined function\n",
    "- then creating the new variable with length of the order_id for each impression_id\n",
    "- then there are few order_id in logdata which is not in available in the itemdata so the sum of the price is zero there are three such rows which has zero price value so we removing those values "
   ]
  },
  {
   "cell_type": "code",
   "execution_count": 7,
   "metadata": {
    "scrolled": true
   },
   "outputs": [],
   "source": [
    "rolled_data['price'] = pricesum(rolled_data,item)\n",
    "rolled_data['order_counts'] = rolled_data['item_id'].apply(len).tolist()\n",
    "rolled_data = rolled_data[rolled_data['price'] != 0]"
   ]
  },
  {
   "cell_type": "code",
   "execution_count": 27,
   "metadata": {
    "collapsed": true
   },
   "outputs": [
    {
     "data": {
      "text/plain": [
       "0     21211\n",
       "20    15386\n",
       "21    15297\n",
       "22    14526\n",
       "19    13992\n",
       "17    13794\n",
       "18    13749\n",
       "23    12978\n",
       "16    12932\n",
       "15    11945\n",
       "14    11077\n",
       "1     10769\n",
       "13    10263\n",
       "12     9776\n",
       "11     9553\n",
       "10     8975\n",
       "9      8328\n",
       "8      6088\n",
       "7      5075\n",
       "2      4703\n",
       "6      3098\n",
       "5      1589\n",
       "3      1346\n",
       "4      1159\n",
       "Name: impression_time, dtype: int64"
      ]
     },
     "execution_count": 27,
     "metadata": {},
     "output_type": "execute_result"
    }
   ],
   "source": [
    "rolled_data['impression_hour'] = rolled_data['impression_time'].dt.hour"
   ]
  },
  {
   "cell_type": "code",
   "execution_count": 14,
   "metadata": {
    "collapsed": true
   },
   "outputs": [
    {
     "data": {
      "text/plain": [
       "48    74687\n",
       "49    63308\n",
       "47    51699\n",
       "46    28702\n",
       "50    19213\n",
       "Name: impression_time, dtype: int64"
      ]
     },
     "execution_count": 14,
     "metadata": {},
     "output_type": "execute_result"
    }
   ],
   "source": [
    "rolled_data['impression_week'] = rolled_data['impression_time'].dt.week"
   ]
  },
  {
   "cell_type": "code",
   "execution_count": 16,
   "metadata": {
    "collapsed": true
   },
   "outputs": [
    {
     "data": {
      "text/plain": [
       "27    14243\n",
       "3     13475\n",
       "2     12304\n",
       "4     11929\n",
       "1     11467\n",
       "20     9917\n",
       "30     9893\n",
       "15     9772\n",
       "28     9655\n",
       "29     8984\n",
       "21     8725\n",
       "5      8684\n",
       "26     8141\n",
       "6      7917\n",
       "11     7857\n",
       "7      7558\n",
       "10     7234\n",
       "23     6954\n",
       "22     6927\n",
       "8      6887\n",
       "9      6858\n",
       "24     6604\n",
       "16     6536\n",
       "25     6474\n",
       "17     6348\n",
       "19     6098\n",
       "18     6046\n",
       "12     3733\n",
       "13      389\n",
       "Name: impression_time, dtype: int64"
      ]
     },
     "execution_count": 16,
     "metadata": {},
     "output_type": "execute_result"
    }
   ],
   "source": [
    "rolled_data['impression_day'] = rolled_data['impression_time'].dt.day"
   ]
  },
  {
   "cell_type": "code",
   "execution_count": 20,
   "metadata": {
    "collapsed": true
   },
   "outputs": [
    {
     "data": {
      "text/plain": [
       "1    43946\n",
       "0    34948\n",
       "3    33989\n",
       "6    31682\n",
       "5    31306\n",
       "4    30941\n",
       "2    30797\n",
       "Name: impression_time, dtype: int64"
      ]
     },
     "execution_count": 20,
     "metadata": {},
     "output_type": "execute_result"
    }
   ],
   "source": [
    "rolled_data['impression_weekday'] = rolled_data['impression_time'].dt.weekday"
   ]
  },
  {
   "cell_type": "code",
   "execution_count": null,
   "metadata": {},
   "outputs": [],
   "source": [
    "rolled_data['impression_monthstart'] = rolled_data['impression_time'].dt.is_month_start"
   ]
  },
  {
   "cell_type": "code",
   "execution_count": 45,
   "metadata": {
    "collapsed": true
   },
   "outputs": [
    {
     "data": {
      "text/plain": [
       "['__bytes__',\n",
       " '__class__',\n",
       " '__delattr__',\n",
       " '__dict__',\n",
       " '__dir__',\n",
       " '__doc__',\n",
       " '__eq__',\n",
       " '__format__',\n",
       " '__ge__',\n",
       " '__getattribute__',\n",
       " '__gt__',\n",
       " '__hash__',\n",
       " '__init__',\n",
       " '__init_subclass__',\n",
       " '__le__',\n",
       " '__lt__',\n",
       " '__module__',\n",
       " '__ne__',\n",
       " '__new__',\n",
       " '__reduce__',\n",
       " '__reduce_ex__',\n",
       " '__repr__',\n",
       " '__setattr__',\n",
       " '__sizeof__',\n",
       " '__str__',\n",
       " '__subclasshook__',\n",
       " '__unicode__',\n",
       " '__weakref__',\n",
       " '_accessors',\n",
       " '_add_delegate_accessors',\n",
       " '_constructor',\n",
       " '_delegate_method',\n",
       " '_delegate_property_get',\n",
       " '_delegate_property_set',\n",
       " '_deprecations',\n",
       " '_dir_additions',\n",
       " '_dir_deletions',\n",
       " '_freeze',\n",
       " '_get_values',\n",
       " '_reset_cache',\n",
       " 'ceil',\n",
       " 'date',\n",
       " 'day',\n",
       " 'day_name',\n",
       " 'dayofweek',\n",
       " 'dayofyear',\n",
       " 'days_in_month',\n",
       " 'daysinmonth',\n",
       " 'floor',\n",
       " 'freq',\n",
       " 'hour',\n",
       " 'is_leap_year',\n",
       " 'is_month_end',\n",
       " 'is_month_start',\n",
       " 'is_quarter_end',\n",
       " 'is_quarter_start',\n",
       " 'is_year_end',\n",
       " 'is_year_start',\n",
       " 'microsecond',\n",
       " 'minute',\n",
       " 'month',\n",
       " 'month_name',\n",
       " 'nanosecond',\n",
       " 'normalize',\n",
       " 'quarter',\n",
       " 'round',\n",
       " 'second',\n",
       " 'strftime',\n",
       " 'time',\n",
       " 'to_period',\n",
       " 'to_pydatetime',\n",
       " 'tz',\n",
       " 'tz_convert',\n",
       " 'tz_localize',\n",
       " 'week',\n",
       " 'weekday',\n",
       " 'weekday_name',\n",
       " 'weekofyear',\n",
       " 'year']"
      ]
     },
     "execution_count": 45,
     "metadata": {},
     "output_type": "execute_result"
    }
   ],
   "source": [
    "rolled_data['impression_monthend'] = rolled_data['impression_time'].dt.is_month_end"
   ]
  },
  {
   "cell_type": "code",
   "execution_count": 65,
   "metadata": {},
   "outputs": [],
   "source": [
    "#####CHECK THE DATASET NAME BEFORE RUNNING###\n",
    "rolled_data['app_count'] = pd.DataFrame(train['app_code'].value_counts()).reset_index().rename(columns = {'index' : \" app_code\",\"app_code\" : \"count\" })"
   ]
  },
  {
   "cell_type": "code",
   "execution_count": null,
   "metadata": {},
   "outputs": [],
   "source": [
    "### Label encoding the os_version  #####CHECK THE DATASET NAME BEFORE RUNNING###\n",
    "from sklearn.preprocessing import LabelEncoder\n",
    "enc = LabelEncoder()\n",
    "train['os_version'] = enc.fit_transform(train['os_version'])"
   ]
  },
  {
   "cell_type": "code",
   "execution_count": null,
   "metadata": {},
   "outputs": [],
   "source": [
    "##merging the rolleddata with train data to get the other columns in train data\n",
    "final_data = pd.merge(rolled_data,train,on = 'impression_id',how = \"left\")"
   ]
  },
  {
   "cell_type": "code",
   "execution_count": 67,
   "metadata": {
    "collapsed": true
   },
   "outputs": [
    {
     "data": {
      "text/plain": [
       "(237609, 7)"
      ]
     },
     "execution_count": 67,
     "metadata": {},
     "output_type": "execute_result"
    }
   ],
   "source": [
    "## droping the app_code column\n",
    "final_data = final_data.drop('app_code',axis =1)"
   ]
  }
 ],
 "metadata": {
  "kernelspec": {
   "display_name": "Python 3",
   "language": "python",
   "name": "python3"
  },
  "language_info": {
   "codemirror_mode": {
    "name": "ipython",
    "version": 3
   },
   "file_extension": ".py",
   "mimetype": "text/x-python",
   "name": "python",
   "nbconvert_exporter": "python",
   "pygments_lexer": "ipython3",
   "version": "3.6.5"
  }
 },
 "nbformat": 4,
 "nbformat_minor": 2
}
